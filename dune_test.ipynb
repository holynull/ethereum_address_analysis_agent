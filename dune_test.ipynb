{
 "cells": [
  {
   "cell_type": "code",
   "execution_count": null,
   "metadata": {
    "vscode": {
     "languageId": "shellscript"
    }
   },
   "outputs": [],
   "source": [
    "pip install dune-client"
   ]
  },
  {
   "cell_type": "code",
   "execution_count": null,
   "metadata": {},
   "outputs": [],
   "source": [
    "from dotenv import load_dotenv\n",
    "\n",
    "load_dotenv(\".env\")"
   ]
  },
  {
   "cell_type": "code",
   "execution_count": null,
   "metadata": {},
   "outputs": [],
   "source": [
    "import os\n",
    "from dune_client.client import DuneClient\n",
    "\n",
    "DUNE_API_KEY=os.getenv(\"DUNE_API_KEY\")\n",
    "dune = DuneClient(DUNE_API_KEY)\n",
    "query_result = dune.get_latest_result(3888983)\n",
    "print(query_result.result)"
   ]
  },
  {
   "cell_type": "code",
   "execution_count": null,
   "metadata": {},
   "outputs": [],
   "source": [
    "from dune_client.types import QueryParameter\n",
    "from dune_client.client import DuneClient\n",
    "from dune_client.query import QueryBase"
   ]
  },
  {
   "cell_type": "code",
   "execution_count": null,
   "metadata": {},
   "outputs": [],
   "source": [
    "query = QueryBase(\n",
    "    name=\"ethereum_get_info_from_symbol\",\n",
    "    query_id=3893389,\n",
    "    params=[\n",
    "        QueryParameter.text_type(name=\"symbol\", value=\"usdt\"),\n",
    "    ],\n",
    ")\n",
    "results_df = dune.run_query_dataframe(query)\n",
    "print(results_df.to_json())"
   ]
  },
  {
   "cell_type": "code",
   "execution_count": null,
   "metadata": {},
   "outputs": [],
   "source": [
    "from web3 import Web3\n",
    "\n",
    "infura_url = f\"https://mainnet.infura.io/v3/{os.getenv('INFURA_API_KEY')}\"\n",
    "web3 = Web3(Web3.HTTPProvider(infura_url))\n",
    "\n",
    "def is_contract_address(address):\n",
    "    code = web3.eth.get_code(Web3.to_checksum_address(address))\n",
    "    return code != b''\n",
    "\n",
    "print(is_contract_address(\"0xC0ffeEBABE5D496B2DDE509f9fa189C25cF29671\"))"
   ]
  },
  {
   "cell_type": "code",
   "execution_count": null,
   "metadata": {},
   "outputs": [],
   "source": [
    "from dune_tools import top_10_eth_transaction\n",
    "\n",
    "result=top_10_eth_transaction.invoke({\"min_amout\":1000})\n",
    "print(result)"
   ]
  },
  {
   "cell_type": "code",
   "execution_count": null,
   "metadata": {},
   "outputs": [],
   "source": [
    "from dune_tools import get_token_balances_of_address\n",
    "import json\n",
    "\n",
    "token_balances_str = get_token_balances_of_address.invoke(\n",
    "    {\"address\": \"0xdfd5293d8e347dfe59e90efd55b2956a1343963d\"}\n",
    ")\n",
    "token_balances = json.loads(token_balances_str)\n",
    "    # 生成Token余额分析报表\n",
    "token_balance_report = []\n",
    "for token in token_balances:\n",
    "    balance_usd = token.get(\"balance_usd\", \"N/A\")\n",
    "    token_balance_report.append(\n",
    "        f\"Token: {token['token_symbol']} (Contract: {token['token_address']}, Liquidity on DEX in 3 months:${token['total_liquidity_usd']})\\n\"\n",
    "        f\"Balance: {token['balance']} (USD: {balance_usd} Price:${token['price']})\\n\"\n",
    "    )\n",
    "\n",
    "# Token余额分析部分\n",
    "token_analysis = \"\\n\".join(token_balance_report)\n",
    "print(token_analysis)"
   ]
  },
  {
   "cell_type": "code",
   "execution_count": null,
   "metadata": {},
   "outputs": [],
   "source": [
    "import requests\n",
    "import time\n",
    "import os\n",
    "\n",
    "def get_address_tags_from_etherscan(addresses):\n",
    "    ETHERSCAN_API_KEY = os.getenv(\"ETHERSCAN_API_KEY\")  # Replace with your actual Etherscan API key\n",
    "    ETHERSCAN_API_URL = 'https://api.etherscan.io/api'\n",
    "    \n",
    "    address_tags = {}\n",
    "    \n",
    "    for address in addresses:\n",
    "        params = {\n",
    "            'module': 'account',\n",
    "            'action': 'txlist',\n",
    "            'address': address,\n",
    "            'apikey': ETHERSCAN_API_KEY,\n",
    "            'startblock': 0,\n",
    "            'endblock': 99999999,\n",
    "            'page': 1,\n",
    "            'offset': 10,  # Example to limit query, adjust as necessary\n",
    "            'sort': 'asc'\n",
    "        }\n",
    "        \n",
    "        response = requests.get(ETHERSCAN_API_URL, params=params)\n",
    "        \n",
    "        if response.status_code == 200:\n",
    "            data = response.json()\n",
    "            if data['status'] == '1':\n",
    "                # Extracting labels from the result\n",
    "                address_tags[address] = data['result']\n",
    "            else:\n",
    "                address_tags[address] = 'No data found'\n",
    "        else:\n",
    "            address_tags[address] = f\"Error: {response.status_code}\"\n",
    "        \n",
    "        # Respect Etherscan API rate limits\n",
    "        time.sleep(1)\n",
    "    \n",
    "    return address_tags\n",
    "\n",
    "# Example usage\n",
    "addresses = [\n",
    "    \"0x742d35Cc6634C0532925a3b844Bc454e4438f44e\", \n",
    "    \"0x53d284357ec70cE289D6D64134DfAc8E511c8a3D\"\n",
    "]\n",
    "address_tags = get_address_tags_from_etherscan(addresses)\n",
    "for address, tags in address_tags.items():\n",
    "    print(f\"Address: {address}, Tags: {tags}\")"
   ]
  },
  {
   "cell_type": "code",
   "execution_count": null,
   "metadata": {},
   "outputs": [],
   "source": [
    "from concurrent.futures import ThreadPoolExecutor\n",
    "import requests\n",
    "from bs4 import BeautifulSoup\n",
    "\n",
    "def get_address_tag_from_etherscan(address):\n",
    "    \"\"\"\n",
    "    Get the tag of a single Ethereum address from Etherscan.\n",
    "    \"\"\"\n",
    "    url = f\"https://etherscan.io/address/{address}\"\n",
    "    headers = {\n",
    "        \"User-Agent\": \"Mozilla/5.0 (Windows NT 10.0; Win64; x64) AppleWebKit/537.36 (KHTML, like Gecko) Chrome/58.0.3029.110 Safari/537.3\"\n",
    "    }\n",
    "\n",
    "    response = requests.get(url, headers=headers)\n",
    "\n",
    "    if response.status_code == 200:\n",
    "        soup = BeautifulSoup(response.content, \"html.parser\")\n",
    "        tag_element = soup.find(\"span\", {\"class\": \"u-label u-label--xs u-label--info rounded\"})\n",
    "\n",
    "        if tag_element:\n",
    "            return tag_element.text.strip()\n",
    "        else:\n",
    "            return \"No tag found\"\n",
    "    else:\n",
    "        return f\"Failed to retrieve page, status code: {response.status_code}\"\n",
    "\n",
    "def get_multiple_address_tags(addresses):\n",
    "    \"\"\"\n",
    "    Get tags for multiple Ethereum addresses from Etherscan.\n",
    "    \"\"\"\n",
    "    address_tags = {}\n",
    "    \n",
    "    with ThreadPoolExecutor(max_workers=10) as executor:\n",
    "        results = executor.map(get_address_tag_from_etherscan, addresses)\n",
    "        \n",
    "    for address, tag in zip(addresses, results):\n",
    "        address_tags[address] = tag\n",
    "    \n",
    "    return address_tags\n",
    "\n",
    "# Example usage\n",
    "addresses = [\n",
    "    \"0x742d35Cc6634C0532925a3b844Bc454e4438f44e\",\n",
    "    \"0x53d284357ec70cE289D6D64134DfAc8E511c8a3D\",\n",
    "    \"0x5a52E96BACdAbDcf4b16a7F8cE7C6c31E3Cc4aF6\"\n",
    "]\n",
    "\n",
    "address_tags = get_multiple_address_tags(addresses)\n",
    "for address, tag in address_tags.items():\n",
    "    print(f\"Address: {address}, Tag: {tag}\")"
   ]
  },
  {
   "cell_type": "code",
   "execution_count": null,
   "metadata": {},
   "outputs": [],
   "source": [
    "from dune_tools import get_address_tag_from_etherscan\n",
    "\n",
    "result=get_address_tag_from_etherscan.invoke({\"address\":\"0xF838ac8921e8d4Efdd20e605C2855f20691ba6a3\"})\n",
    "print(result)\n",
    "result=get_address_tag_from_etherscan.invoke({\"address\":\"0xA0c68C638235ee32657e8f720a23ceC1bFc77C77\"})\n",
    "print(result)\n",
    "result=get_address_tag_from_etherscan.invoke({\"address\":\"0x59a19d8c652fa0284f44113d0ff9aba70bd46fb4\"})\n",
    "print(result)"
   ]
  },
  {
   "cell_type": "code",
   "execution_count": null,
   "metadata": {},
   "outputs": [],
   "source": [
    "from dune_tools import get_token_balances_of_address,extract_main_token_of_balances\n",
    "\n",
    "# balances=get_token_balances_of_address.invoke({\"address\":'0xdfd5293d8e347dfe59e90efd55b2956a1343963d'})\n",
    "# print(balances)\n",
    "# result=extract_main_token_of_balances(balances)\n",
    "# print(result)\n",
    "from dune_tools import extract_token_from_balances\n",
    "print(extract_token_from_balances(data=balances))"
   ]
  },
  {
   "cell_type": "code",
   "execution_count": null,
   "metadata": {},
   "outputs": [],
   "source": [
    "from dune_tools import get_erc20_transfer_of\n",
    "\n",
    "result=get_erc20_transfer_of.invoke({\"address\":'0xdfd5293d8e347dfe59e90efd55b2956a1343963d','contract_address':'0xeeeeeeeeeeeeeeeeeeeeeeeeeeeeeeeeeeeeeeee'})\n",
    "print(result)"
   ]
  },
  {
   "cell_type": "code",
   "execution_count": null,
   "metadata": {},
   "outputs": [],
   "source": [
    "from dune_tools import get_eth_movements_of\n",
    "\n",
    "result=get_eth_movements_of.invoke({\"address\":'0xdfd5293d8e347dfe59e90efd55b2956a1343963d'})\n",
    "print(result)"
   ]
  },
  {
   "cell_type": "code",
   "execution_count": null,
   "metadata": {},
   "outputs": [],
   "source": [
    "import pprint\n",
    "from ethereum_address_analysis_agent import ethereum_address_analysis_agent_executor\n",
    "\n",
    "# ethereum_address_analysis_agent_executor.invoke(\n",
    "#     {\n",
    "#         \"input\": \"请帮我分析一下地址0xdfd5293d8e347dfe59e90efd55b2956a1343963d\",\n",
    "#         \"chat_history\": [],\n",
    "#     },\n",
    "#     config={\n",
    "#         \"configurable\": {\"llm\": \"openai_gpt_4o\"},\n",
    "#     },\n",
    "# )\n",
    "\n",
    "chunks = []\n",
    "async for chunk in ethereum_address_analysis_agent_executor.astream_events(\n",
    "    {\n",
    "        \"input\": \"请帮我分析一下地址0xdfd5293d8e347dfe59e90efd55b2956a1343963d\",\n",
    "        \"chat_history\": [],\n",
    "    },\n",
    "    version=\"v1\",\n",
    "    config={\n",
    "        \"configurable\": {\"llm\": \"openai_gpt_4o\"},\n",
    "    },\n",
    "):\n",
    "    chunks.append(chunk)\n",
    "    print(\"------\")\n",
    "    pprint.pprint(chunk, depth=1)"
   ]
  },
  {
   "cell_type": "code",
   "execution_count": null,
   "metadata": {},
   "outputs": [],
   "source": [
    "from dune_tools import get_balances_of_address\n",
    "\n",
    "result=get_balances_of_address.invoke({\"address\":\"0xdfd5293d8e347dfe59e90efd55b2956a1343963d\"})"
   ]
  },
  {
   "cell_type": "code",
   "execution_count": null,
   "metadata": {
    "vscode": {
     "languageId": "shellscript"
    }
   },
   "outputs": [],
   "source": [
    "pip install matplotlib"
   ]
  },
  {
   "cell_type": "code",
   "execution_count": null,
   "metadata": {},
   "outputs": [],
   "source": [
    "from dune_tools import get_token_balance_daily_of_address\n",
    "\n",
    "result=get_token_balance_daily_of_address.invoke({\"address\":\"0xdfd5293d8e347dfe59e90efd55b2956a1343963d\",\"token_address\":\"0x4575f41308ec1483f3d399aa9a2826d74da13deb\"})\n",
    "print(result)"
   ]
  },
  {
   "cell_type": "code",
   "execution_count": null,
   "metadata": {},
   "outputs": [],
   "source": [
    "from tools_basic import tools\n",
    "import json\n",
    "\n",
    "t_arr=[{\n",
    "            \"name\": tool.name,\n",
    "            \"description\": tool.description,\n",
    "            \"parameters\": {\n",
    "                \"type\": \"string\",  # 假设工具接收的参数类型是字符串\n",
    "                \"format\": f\"{tool.name}({{{tool.name}_input}})\"  # 定义参数格式\n",
    "            }\n",
    "        } for tool in tools]\n",
    "\n",
    "print(json.dumps(t_arr))"
   ]
  },
  {
   "cell_type": "code",
   "execution_count": null,
   "metadata": {},
   "outputs": [],
   "source": [
    "from dune_tools import get_address_labels\n",
    "\n",
    "result=get_address_labels.invoke({\"addresses\":[\"0xdfd5293d8e347dfe59e90efd55b2956a1343963d\"]})\n",
    "print(result)"
   ]
  },
  {
   "cell_type": "code",
   "execution_count": null,
   "metadata": {},
   "outputs": [],
   "source": [
    "from dune_tools import get_addres_how_much_funds_transfered\n",
    "\n",
    "result = get_addres_how_much_funds_transfered.invoke(\n",
    "    {\n",
    "        \"address\": \"0xdfd5293d8e347dfe59e90efd55b2956a1343963d\",\n",
    "        \"contract_address\": \"0xa0b86991c6218b36c1d19d4a2e9eb0ce3606eb48\",\n",
    "        \"token_sybmol\": \"USDC\",\n",
    "        \"sta_time\": \"2024-07-29 00:00:00\",\n",
    "        \"end_time\": \"2024-08-06 23:59:59\",\n",
    "    }\n",
    ")\n",
    "print(result)"
   ]
  },
  {
   "cell_type": "code",
   "execution_count": 3,
   "metadata": {},
   "outputs": [
    {
     "name": "stdout",
     "output_type": "stream",
     "text": [
      "\n",
      "\n",
      "根据代码分析和额外信息，这段代码主要是用于生成和管理AI助手的提示（prompts）。以下是对代码主要功能的详细解释：\n",
      "\n",
      "1. 导入必要的模块：\n",
      "   - `datetime`: 用于获取当前时间。\n",
      "   - `merge_ref_and_qa`: 一个自定义函数，用于合并参考内容和相关问答。\n",
      "\n",
      "2. `_get_default_afunc_prompt` 函数：\n",
      "   - 这是主要的提示生成函数，根据指定的语言（中文或英文）生成不同的提示。\n",
      "   - 函数参数包括语言、选中的内容、相关问答、模型、所有者和引用消息等。\n",
      "   - 生成的提示包含了当前时间、AI助手的角色定位、行为约束、专业知识领域（主要是Web3和加密货币）等信息。\n",
      "   - 提示中还包含了如何处理用户问题、如何使用提供的参考信息、以及特定的语气和表达要求。\n",
      "\n",
      "3. `_get_default_aref_answer_prompt` 函数：\n",
      "   - 这个函数直接调用 `_get_default_afunc_prompt`，可能是为了保持一致性或未来的扩展。\n",
      "\n",
      "4. `_get_default_merge_ref_and_input_text` 函数：\n",
      "   - 这个函数用于合并参考内容、相关问答和用户输入。\n",
      "   - 根据指定的语言（中文或英文），生成一个包含参考资料和用户问题的格式化字符串。\n",
      "\n",
      "主要特点：\n",
      "\n",
      "1. 多语言支持：代码支持中文和英文两种语言的提示生成。\n",
      "2. 动态内容：提示中包含当前时间、用户提供的内容等动态信息。\n",
      "3. 角色定位：将AI助手定位为Web3和加密货币领域的专业顾问。\n",
      "4. 参考信息整合：能够将额外的参考信息和相关问答整合到提示中。\n",
      "5. 格式控制：控制生成的提示格式，包括超链接的处理方式。\n",
      "\n",
      "这种方法允许根据不同的上下文和需求动态生成适应性强的AI提示，提高AI助手回答的相关性和专业性。\n"
     ]
    }
   ],
   "source": [
    "s='\\n\\n根据代码分析和额外信息，这段代码主要是用于生成和管理AI助手的提示（prompts）。以下是对代码主要功能的详细解释：\\n\\n1. 导入必要的模块：\\n   - `datetime`: 用于获取当前时间。\\n   - `merge_ref_and_qa`: 一个自定义函数，用于合并参考内容和相关问答。\\n\\n2. `_get_default_afunc_prompt` 函数：\\n   - 这是主要的提示生成函数，根据指定的语言（中文或英文）生成不同的提示。\\n   - 函数参数包括语言、选中的内容、相关问答、模型、所有者和引用消息等。\\n   - 生成的提示包含了当前时间、AI助手的角色定位、行为约束、专业知识领域（主要是Web3和加密货币）等信息。\\n   - 提示中还包含了如何处理用户问题、如何使用提供的参考信息、以及特定的语气和表达要求。\\n\\n3. `_get_default_aref_answer_prompt` 函数：\\n   - 这个函数直接调用 `_get_default_afunc_prompt`，可能是为了保持一致性或未来的扩展。\\n\\n4. `_get_default_merge_ref_and_input_text` 函数：\\n   - 这个函数用于合并参考内容、相关问答和用户输入。\\n   - 根据指定的语言（中文或英文），生成一个包含参考资料和用户问题的格式化字符串。\\n\\n主要特点：\\n\\n1. 多语言支持：代码支持中文和英文两种语言的提示生成。\\n2. 动态内容：提示中包含当前时间、用户提供的内容等动态信息。\\n3. 角色定位：将AI助手定位为Web3和加密货币领域的专业顾问。\\n4. 参考信息整合：能够将额外的参考信息和相关问答整合到提示中。\\n5. 格式控制：控制生成的提示格式，包括超链接的处理方式。\\n\\n这种方法允许根据不同的上下文和需求动态生成适应性强的AI提示，提高AI助手回答的相关性和专业性。'\n",
    "print(s)"
   ]
  }
 ],
 "metadata": {
  "kernelspec": {
   "display_name": ".venv",
   "language": "python",
   "name": "python3"
  },
  "language_info": {
   "codemirror_mode": {
    "name": "ipython",
    "version": 3
   },
   "file_extension": ".py",
   "mimetype": "text/x-python",
   "name": "python",
   "nbconvert_exporter": "python",
   "pygments_lexer": "ipython3",
   "version": "3.10.6"
  }
 },
 "nbformat": 4,
 "nbformat_minor": 2
}
