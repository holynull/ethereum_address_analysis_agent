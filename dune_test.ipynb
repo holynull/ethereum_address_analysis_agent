{
 "cells": [
  {
   "cell_type": "code",
   "execution_count": null,
   "metadata": {
    "vscode": {
     "languageId": "shellscript"
    }
   },
   "outputs": [],
   "source": [
    "pip install dune-client"
   ]
  },
  {
   "cell_type": "code",
   "execution_count": null,
   "metadata": {},
   "outputs": [],
   "source": [
    "from dotenv import load_dotenv\n",
    "\n",
    "load_dotenv(\".env\")"
   ]
  },
  {
   "cell_type": "code",
   "execution_count": null,
   "metadata": {},
   "outputs": [],
   "source": [
    "import os\n",
    "from dune_client.client import DuneClient\n",
    "\n",
    "DUNE_API_KEY=os.getenv(\"DUNE_API_KEY\")\n",
    "dune = DuneClient(DUNE_API_KEY)\n",
    "query_result = dune.get_latest_result(3888983)\n",
    "print(query_result.result)"
   ]
  },
  {
   "cell_type": "code",
   "execution_count": null,
   "metadata": {},
   "outputs": [],
   "source": [
    "from dune_client.types import QueryParameter\n",
    "from dune_client.client import DuneClient\n",
    "from dune_client.query import QueryBase"
   ]
  },
  {
   "cell_type": "code",
   "execution_count": null,
   "metadata": {},
   "outputs": [],
   "source": [
    "query = QueryBase(\n",
    "    name=\"ethereum_get_info_from_symbol\",\n",
    "    query_id=3893389,\n",
    "    params=[\n",
    "        QueryParameter.text_type(name=\"symbol\", value=\"usdt\"),\n",
    "    ],\n",
    ")\n",
    "results_df = dune.run_query_dataframe(query)\n",
    "print(results_df.to_json())"
   ]
  },
  {
   "cell_type": "code",
   "execution_count": null,
   "metadata": {},
   "outputs": [],
   "source": [
    "from web3 import Web3\n",
    "\n",
    "infura_url = f\"https://mainnet.infura.io/v3/{os.getenv('INFURA_API_KEY')}\"\n",
    "web3 = Web3(Web3.HTTPProvider(infura_url))\n",
    "\n",
    "def is_contract_address(address):\n",
    "    code = web3.eth.get_code(Web3.to_checksum_address(address))\n",
    "    return code != b''\n",
    "\n",
    "print(is_contract_address(\"0xC0ffeEBABE5D496B2DDE509f9fa189C25cF29671\"))"
   ]
  },
  {
   "cell_type": "code",
   "execution_count": null,
   "metadata": {},
   "outputs": [],
   "source": [
    "from dune_tools import top_10_eth_transaction\n",
    "\n",
    "result=top_10_eth_transaction.invoke({\"min_amout\":1000})\n",
    "print(result)"
   ]
  },
  {
   "cell_type": "code",
   "execution_count": null,
   "metadata": {},
   "outputs": [],
   "source": [
    "from dune_tools import get_token_balances_of_address\n",
    "import json\n",
    "\n",
    "token_balances_str = get_token_balances_of_address.invoke(\n",
    "    {\"address\": \"0xdfd5293d8e347dfe59e90efd55b2956a1343963d\"}\n",
    ")\n",
    "token_balances = json.loads(token_balances_str)\n",
    "    # 生成Token余额分析报表\n",
    "token_balance_report = []\n",
    "for token in token_balances:\n",
    "    balance_usd = token.get(\"balance_usd\", \"N/A\")\n",
    "    token_balance_report.append(\n",
    "        f\"Token: {token['token_symbol']} (Contract: {token['token_address']}, Liquidity on DEX in 3 months:${token['total_liquidity_usd']})\\n\"\n",
    "        f\"Balance: {token['balance']} (USD: {balance_usd} Price:${token['price']})\\n\"\n",
    "    )\n",
    "\n",
    "# Token余额分析部分\n",
    "token_analysis = \"\\n\".join(token_balance_report)\n",
    "print(token_analysis)"
   ]
  },
  {
   "cell_type": "code",
   "execution_count": null,
   "metadata": {},
   "outputs": [],
   "source": [
    "import requests\n",
    "import time\n",
    "import os\n",
    "\n",
    "def get_address_tags_from_etherscan(addresses):\n",
    "    ETHERSCAN_API_KEY = os.getenv(\"ETHERSCAN_API_KEY\")  # Replace with your actual Etherscan API key\n",
    "    ETHERSCAN_API_URL = 'https://api.etherscan.io/api'\n",
    "    \n",
    "    address_tags = {}\n",
    "    \n",
    "    for address in addresses:\n",
    "        params = {\n",
    "            'module': 'account',\n",
    "            'action': 'txlist',\n",
    "            'address': address,\n",
    "            'apikey': ETHERSCAN_API_KEY,\n",
    "            'startblock': 0,\n",
    "            'endblock': 99999999,\n",
    "            'page': 1,\n",
    "            'offset': 10,  # Example to limit query, adjust as necessary\n",
    "            'sort': 'asc'\n",
    "        }\n",
    "        \n",
    "        response = requests.get(ETHERSCAN_API_URL, params=params)\n",
    "        \n",
    "        if response.status_code == 200:\n",
    "            data = response.json()\n",
    "            if data['status'] == '1':\n",
    "                # Extracting labels from the result\n",
    "                address_tags[address] = data['result']\n",
    "            else:\n",
    "                address_tags[address] = 'No data found'\n",
    "        else:\n",
    "            address_tags[address] = f\"Error: {response.status_code}\"\n",
    "        \n",
    "        # Respect Etherscan API rate limits\n",
    "        time.sleep(1)\n",
    "    \n",
    "    return address_tags\n",
    "\n",
    "# Example usage\n",
    "addresses = [\n",
    "    \"0x742d35Cc6634C0532925a3b844Bc454e4438f44e\", \n",
    "    \"0x53d284357ec70cE289D6D64134DfAc8E511c8a3D\"\n",
    "]\n",
    "address_tags = get_address_tags_from_etherscan(addresses)\n",
    "for address, tags in address_tags.items():\n",
    "    print(f\"Address: {address}, Tags: {tags}\")"
   ]
  },
  {
   "cell_type": "code",
   "execution_count": null,
   "metadata": {},
   "outputs": [],
   "source": [
    "from concurrent.futures import ThreadPoolExecutor\n",
    "import requests\n",
    "from bs4 import BeautifulSoup\n",
    "\n",
    "def get_address_tag_from_etherscan(address):\n",
    "    \"\"\"\n",
    "    Get the tag of a single Ethereum address from Etherscan.\n",
    "    \"\"\"\n",
    "    url = f\"https://etherscan.io/address/{address}\"\n",
    "    headers = {\n",
    "        \"User-Agent\": \"Mozilla/5.0 (Windows NT 10.0; Win64; x64) AppleWebKit/537.36 (KHTML, like Gecko) Chrome/58.0.3029.110 Safari/537.3\"\n",
    "    }\n",
    "\n",
    "    response = requests.get(url, headers=headers)\n",
    "\n",
    "    if response.status_code == 200:\n",
    "        soup = BeautifulSoup(response.content, \"html.parser\")\n",
    "        tag_element = soup.find(\"span\", {\"class\": \"u-label u-label--xs u-label--info rounded\"})\n",
    "\n",
    "        if tag_element:\n",
    "            return tag_element.text.strip()\n",
    "        else:\n",
    "            return \"No tag found\"\n",
    "    else:\n",
    "        return f\"Failed to retrieve page, status code: {response.status_code}\"\n",
    "\n",
    "def get_multiple_address_tags(addresses):\n",
    "    \"\"\"\n",
    "    Get tags for multiple Ethereum addresses from Etherscan.\n",
    "    \"\"\"\n",
    "    address_tags = {}\n",
    "    \n",
    "    with ThreadPoolExecutor(max_workers=10) as executor:\n",
    "        results = executor.map(get_address_tag_from_etherscan, addresses)\n",
    "        \n",
    "    for address, tag in zip(addresses, results):\n",
    "        address_tags[address] = tag\n",
    "    \n",
    "    return address_tags\n",
    "\n",
    "# Example usage\n",
    "addresses = [\n",
    "    \"0x742d35Cc6634C0532925a3b844Bc454e4438f44e\",\n",
    "    \"0x53d284357ec70cE289D6D64134DfAc8E511c8a3D\",\n",
    "    \"0x5a52E96BACdAbDcf4b16a7F8cE7C6c31E3Cc4aF6\"\n",
    "]\n",
    "\n",
    "address_tags = get_multiple_address_tags(addresses)\n",
    "for address, tag in address_tags.items():\n",
    "    print(f\"Address: {address}, Tag: {tag}\")"
   ]
  },
  {
   "cell_type": "code",
   "execution_count": null,
   "metadata": {},
   "outputs": [],
   "source": [
    "from dune_tools import get_address_tag_from_etherscan\n",
    "\n",
    "result=get_address_tag_from_etherscan.invoke({\"address\":\"0xF838ac8921e8d4Efdd20e605C2855f20691ba6a3\"})\n",
    "print(result)\n",
    "result=get_address_tag_from_etherscan.invoke({\"address\":\"0xA0c68C638235ee32657e8f720a23ceC1bFc77C77\"})\n",
    "print(result)\n",
    "result=get_address_tag_from_etherscan.invoke({\"address\":\"0x59a19d8c652fa0284f44113d0ff9aba70bd46fb4\"})\n",
    "print(result)"
   ]
  },
  {
   "cell_type": "code",
   "execution_count": null,
   "metadata": {},
   "outputs": [],
   "source": [
    "from dune_tools import get_token_balances_of_address,extract_main_token_of_balances\n",
    "\n",
    "# balances=get_token_balances_of_address.invoke({\"address\":'0xdfd5293d8e347dfe59e90efd55b2956a1343963d'})\n",
    "# print(balances)\n",
    "# result=extract_main_token_of_balances(balances)\n",
    "# print(result)\n",
    "from dune_tools import extract_token_from_balances\n",
    "print(extract_token_from_balances(data=balances))"
   ]
  },
  {
   "cell_type": "code",
   "execution_count": null,
   "metadata": {},
   "outputs": [],
   "source": [
    "from dune_tools import get_erc20_transfer_of\n",
    "\n",
    "result=get_erc20_transfer_of.invoke({\"address\":'0xdfd5293d8e347dfe59e90efd55b2956a1343963d','contract_address':'0xeeeeeeeeeeeeeeeeeeeeeeeeeeeeeeeeeeeeeeee'})\n",
    "print(result)"
   ]
  },
  {
   "cell_type": "code",
   "execution_count": null,
   "metadata": {},
   "outputs": [],
   "source": [
    "from dune_tools import get_eth_movements_of\n",
    "\n",
    "result=get_eth_movements_of.invoke({\"address\":'0xdfd5293d8e347dfe59e90efd55b2956a1343963d'})\n",
    "print(result)"
   ]
  },
  {
   "cell_type": "code",
   "execution_count": null,
   "metadata": {},
   "outputs": [],
   "source": [
    "import pprint\n",
    "from ethereum_address_analysis_agent import ethereum_address_analysis_agent_executor\n",
    "\n",
    "# ethereum_address_analysis_agent_executor.invoke(\n",
    "#     {\n",
    "#         \"input\": \"请帮我分析一下地址0xdfd5293d8e347dfe59e90efd55b2956a1343963d\",\n",
    "#         \"chat_history\": [],\n",
    "#     },\n",
    "#     config={\n",
    "#         \"configurable\": {\"llm\": \"openai_gpt_4o\"},\n",
    "#     },\n",
    "# )\n",
    "\n",
    "chunks = []\n",
    "async for chunk in ethereum_address_analysis_agent_executor.astream_events(\n",
    "    {\n",
    "        \"input\": \"请帮我分析一下地址0xdfd5293d8e347dfe59e90efd55b2956a1343963d\",\n",
    "        \"chat_history\": [],\n",
    "    },\n",
    "    version=\"v1\",\n",
    "    config={\n",
    "        \"configurable\": {\"llm\": \"openai_gpt_4o\"},\n",
    "    },\n",
    "):\n",
    "    chunks.append(chunk)\n",
    "    print(\"------\")\n",
    "    pprint.pprint(chunk, depth=1)"
   ]
  },
  {
   "cell_type": "code",
   "execution_count": 1,
   "metadata": {},
   "outputs": [
    {
     "name": "stderr",
     "output_type": "stream",
     "text": [
      "2024-08-08 11:53:31,232 INFO botocore.credentials Found credentials in shared credentials file: ~/.aws/credentials\n",
      "2024-08-08 11:53:31,451 INFO dune_client.api.base executing 3916915 on medium cluster\n",
      "2024-08-08 11:53:32,866 INFO dune_client.api.base waiting for query execution 01J4R1XN3A37MJQ3A31G1B2B7W to complete: ExecutionState.PENDING (queue position: 1)\n",
      "2024-08-08 11:53:34,121 INFO dune_client.api.base waiting for query execution 01J4R1XN3A37MJQ3A31G1B2B7W to complete: ExecutionState.EXECUTING\n",
      "2024-08-08 11:53:35,389 INFO dune_client.api.base waiting for query execution 01J4R1XN3A37MJQ3A31G1B2B7W to complete: ExecutionState.EXECUTING\n",
      "2024-08-08 11:53:36,680 INFO dune_client.api.base waiting for query execution 01J4R1XN3A37MJQ3A31G1B2B7W to complete: ExecutionState.EXECUTING\n",
      "2024-08-08 11:53:37,939 INFO dune_client.api.base waiting for query execution 01J4R1XN3A37MJQ3A31G1B2B7W to complete: ExecutionState.EXECUTING\n",
      "2024-08-08 11:53:39,260 INFO dune_client.api.base waiting for query execution 01J4R1XN3A37MJQ3A31G1B2B7W to complete: ExecutionState.EXECUTING\n",
      "2024-08-08 11:53:40,682 INFO dune_client.api.base waiting for query execution 01J4R1XN3A37MJQ3A31G1B2B7W to complete: ExecutionState.EXECUTING\n",
      "2024-08-08 11:53:41,942 INFO dune_client.api.base waiting for query execution 01J4R1XN3A37MJQ3A31G1B2B7W to complete: ExecutionState.EXECUTING\n",
      "2024-08-08 11:53:43,215 INFO dune_client.api.base waiting for query execution 01J4R1XN3A37MJQ3A31G1B2B7W to complete: ExecutionState.EXECUTING\n",
      "2024-08-08 11:53:44,476 INFO dune_client.api.base waiting for query execution 01J4R1XN3A37MJQ3A31G1B2B7W to complete: ExecutionState.EXECUTING\n",
      "2024-08-08 11:53:45,739 INFO dune_client.api.base waiting for query execution 01J4R1XN3A37MJQ3A31G1B2B7W to complete: ExecutionState.EXECUTING\n",
      "2024-08-08 11:53:47,037 INFO dune_client.api.base waiting for query execution 01J4R1XN3A37MJQ3A31G1B2B7W to complete: ExecutionState.EXECUTING\n",
      "2024-08-08 11:53:48,291 INFO dune_client.api.base waiting for query execution 01J4R1XN3A37MJQ3A31G1B2B7W to complete: ExecutionState.EXECUTING\n",
      "2024-08-08 11:53:49,558 INFO dune_client.api.base waiting for query execution 01J4R1XN3A37MJQ3A31G1B2B7W to complete: ExecutionState.EXECUTING\n",
      "2024-08-08 11:53:50,819 INFO dune_client.api.base waiting for query execution 01J4R1XN3A37MJQ3A31G1B2B7W to complete: ExecutionState.EXECUTING\n",
      "2024-08-08 11:53:52,085 INFO dune_client.api.base waiting for query execution 01J4R1XN3A37MJQ3A31G1B2B7W to complete: ExecutionState.EXECUTING\n",
      "2024-08-08 11:53:53,370 INFO dune_client.api.base waiting for query execution 01J4R1XN3A37MJQ3A31G1B2B7W to complete: ExecutionState.EXECUTING\n",
      "2024-08-08 11:53:54,711 INFO dune_client.api.base waiting for query execution 01J4R1XN3A37MJQ3A31G1B2B7W to complete: ExecutionState.EXECUTING\n",
      "2024-08-08 11:53:55,984 INFO dune_client.api.base waiting for query execution 01J4R1XN3A37MJQ3A31G1B2B7W to complete: ExecutionState.EXECUTING\n",
      "2024-08-08 11:53:57,252 INFO dune_client.api.base waiting for query execution 01J4R1XN3A37MJQ3A31G1B2B7W to complete: ExecutionState.EXECUTING\n",
      "2024-08-08 11:53:58,542 INFO dune_client.api.base waiting for query execution 01J4R1XN3A37MJQ3A31G1B2B7W to complete: ExecutionState.EXECUTING\n",
      "2024-08-08 11:53:59,836 INFO dune_client.api.base waiting for query execution 01J4R1XN3A37MJQ3A31G1B2B7W to complete: ExecutionState.EXECUTING\n",
      "2024-08-08 11:54:01,114 INFO dune_client.api.base waiting for query execution 01J4R1XN3A37MJQ3A31G1B2B7W to complete: ExecutionState.EXECUTING\n",
      "2024-08-08 11:54:02,379 INFO dune_client.api.base waiting for query execution 01J4R1XN3A37MJQ3A31G1B2B7W to complete: ExecutionState.EXECUTING\n",
      "2024-08-08 11:54:03,656 INFO dune_client.api.base waiting for query execution 01J4R1XN3A37MJQ3A31G1B2B7W to complete: ExecutionState.EXECUTING\n",
      "2024-08-08 11:54:04,939 INFO dune_client.api.base waiting for query execution 01J4R1XN3A37MJQ3A31G1B2B7W to complete: ExecutionState.EXECUTING\n",
      "2024-08-08 11:54:06,288 INFO dune_client.api.base waiting for query execution 01J4R1XN3A37MJQ3A31G1B2B7W to complete: ExecutionState.EXECUTING\n",
      "2024-08-08 11:54:07,553 INFO dune_client.api.base waiting for query execution 01J4R1XN3A37MJQ3A31G1B2B7W to complete: ExecutionState.EXECUTING\n",
      "2024-08-08 11:54:08,816 INFO dune_client.api.base waiting for query execution 01J4R1XN3A37MJQ3A31G1B2B7W to complete: ExecutionState.EXECUTING\n",
      "2024-08-08 11:54:10,106 INFO dune_client.api.base waiting for query execution 01J4R1XN3A37MJQ3A31G1B2B7W to complete: ExecutionState.EXECUTING\n",
      "2024-08-08 11:54:11,381 INFO dune_client.api.base waiting for query execution 01J4R1XN3A37MJQ3A31G1B2B7W to complete: ExecutionState.EXECUTING\n",
      "2024-08-08 11:54:12,703 INFO dune_client.api.base waiting for query execution 01J4R1XN3A37MJQ3A31G1B2B7W to complete: ExecutionState.EXECUTING\n",
      "2024-08-08 11:54:13,971 INFO dune_client.api.base waiting for query execution 01J4R1XN3A37MJQ3A31G1B2B7W to complete: ExecutionState.EXECUTING\n",
      "2024-08-08 11:54:15,231 INFO dune_client.api.base waiting for query execution 01J4R1XN3A37MJQ3A31G1B2B7W to complete: ExecutionState.EXECUTING\n",
      "2024-08-08 11:54:16,633 INFO dune_client.api.base waiting for query execution 01J4R1XN3A37MJQ3A31G1B2B7W to complete: ExecutionState.EXECUTING\n",
      "2024-08-08 11:54:17,930 INFO dune_client.api.base waiting for query execution 01J4R1XN3A37MJQ3A31G1B2B7W to complete: ExecutionState.EXECUTING\n",
      "2024-08-08 11:54:19,199 INFO dune_client.api.base waiting for query execution 01J4R1XN3A37MJQ3A31G1B2B7W to complete: ExecutionState.EXECUTING\n",
      "2024-08-08 11:54:20,623 INFO dune_client.api.base waiting for query execution 01J4R1XN3A37MJQ3A31G1B2B7W to complete: ExecutionState.EXECUTING\n",
      "2024-08-08 11:54:21,885 INFO dune_client.api.base waiting for query execution 01J4R1XN3A37MJQ3A31G1B2B7W to complete: ExecutionState.EXECUTING\n",
      "2024-08-08 11:54:23,164 INFO dune_client.api.base waiting for query execution 01J4R1XN3A37MJQ3A31G1B2B7W to complete: ExecutionState.EXECUTING\n",
      "2024-08-08 11:54:24,432 INFO dune_client.api.base waiting for query execution 01J4R1XN3A37MJQ3A31G1B2B7W to complete: ExecutionState.EXECUTING\n",
      "2024-08-08 11:54:25,730 INFO dune_client.api.base waiting for query execution 01J4R1XN3A37MJQ3A31G1B2B7W to complete: ExecutionState.EXECUTING\n",
      "2024-08-08 11:54:27,034 INFO dune_client.api.base waiting for query execution 01J4R1XN3A37MJQ3A31G1B2B7W to complete: ExecutionState.EXECUTING\n",
      "2024-08-08 11:54:28,296 INFO dune_client.api.base waiting for query execution 01J4R1XN3A37MJQ3A31G1B2B7W to complete: ExecutionState.EXECUTING\n",
      "2024-08-08 11:54:29,549 INFO dune_client.api.base waiting for query execution 01J4R1XN3A37MJQ3A31G1B2B7W to complete: ExecutionState.EXECUTING\n",
      "2024-08-08 11:54:30,832 INFO dune_client.api.base waiting for query execution 01J4R1XN3A37MJQ3A31G1B2B7W to complete: ExecutionState.EXECUTING\n",
      "2024-08-08 11:54:32,117 INFO dune_client.api.base waiting for query execution 01J4R1XN3A37MJQ3A31G1B2B7W to complete: ExecutionState.EXECUTING\n",
      "2024-08-08 11:54:33,374 INFO dune_client.api.base waiting for query execution 01J4R1XN3A37MJQ3A31G1B2B7W to complete: ExecutionState.EXECUTING\n",
      "2024-08-08 11:54:34,644 INFO dune_client.api.base waiting for query execution 01J4R1XN3A37MJQ3A31G1B2B7W to complete: ExecutionState.EXECUTING\n",
      "2024-08-08 11:54:35,907 INFO dune_client.api.base waiting for query execution 01J4R1XN3A37MJQ3A31G1B2B7W to complete: ExecutionState.EXECUTING\n",
      "2024-08-08 11:54:37,174 INFO dune_client.api.base waiting for query execution 01J4R1XN3A37MJQ3A31G1B2B7W to complete: ExecutionState.EXECUTING\n",
      "2024-08-08 11:54:38,427 INFO dune_client.api.base waiting for query execution 01J4R1XN3A37MJQ3A31G1B2B7W to complete: ExecutionState.EXECUTING\n",
      "2024-08-08 11:54:39,772 INFO dune_client.api.base waiting for query execution 01J4R1XN3A37MJQ3A31G1B2B7W to complete: ExecutionState.EXECUTING\n",
      "2024-08-08 11:54:41,035 INFO dune_client.api.base waiting for query execution 01J4R1XN3A37MJQ3A31G1B2B7W to complete: ExecutionState.EXECUTING\n",
      "2024-08-08 11:54:42,293 INFO dune_client.api.base waiting for query execution 01J4R1XN3A37MJQ3A31G1B2B7W to complete: ExecutionState.EXECUTING\n",
      "2024-08-08 11:54:43,556 INFO dune_client.api.base waiting for query execution 01J4R1XN3A37MJQ3A31G1B2B7W to complete: ExecutionState.EXECUTING\n",
      "2024-08-08 11:54:44,809 INFO dune_client.api.base waiting for query execution 01J4R1XN3A37MJQ3A31G1B2B7W to complete: ExecutionState.EXECUTING\n",
      "2024-08-08 11:54:46,067 INFO dune_client.api.base waiting for query execution 01J4R1XN3A37MJQ3A31G1B2B7W to complete: ExecutionState.EXECUTING\n",
      "2024-08-08 11:54:47,332 INFO dune_client.api.base waiting for query execution 01J4R1XN3A37MJQ3A31G1B2B7W to complete: ExecutionState.EXECUTING\n",
      "2024-08-08 11:54:48,599 INFO dune_client.api.base waiting for query execution 01J4R1XN3A37MJQ3A31G1B2B7W to complete: ExecutionState.EXECUTING\n",
      "2024-08-08 11:54:50,015 INFO dune_client.api.base waiting for query execution 01J4R1XN3A37MJQ3A31G1B2B7W to complete: ExecutionState.EXECUTING\n",
      "2024-08-08 11:54:51,282 INFO dune_client.api.base waiting for query execution 01J4R1XN3A37MJQ3A31G1B2B7W to complete: ExecutionState.EXECUTING\n",
      "2024-08-08 11:54:52,547 INFO dune_client.api.base waiting for query execution 01J4R1XN3A37MJQ3A31G1B2B7W to complete: ExecutionState.EXECUTING\n",
      "2024-08-08 11:54:53,814 INFO dune_client.api.base waiting for query execution 01J4R1XN3A37MJQ3A31G1B2B7W to complete: ExecutionState.EXECUTING\n",
      "2024-08-08 11:54:55,075 INFO dune_client.api.base waiting for query execution 01J4R1XN3A37MJQ3A31G1B2B7W to complete: ExecutionState.EXECUTING\n",
      "2024-08-08 11:54:56,465 INFO dune_client.api.base waiting for query execution 01J4R1XN3A37MJQ3A31G1B2B7W to complete: ExecutionState.EXECUTING\n",
      "2024-08-08 11:54:57,742 INFO dune_client.api.base waiting for query execution 01J4R1XN3A37MJQ3A31G1B2B7W to complete: ExecutionState.EXECUTING\n",
      "2024-08-08 11:54:59,000 INFO dune_client.api.base waiting for query execution 01J4R1XN3A37MJQ3A31G1B2B7W to complete: ExecutionState.EXECUTING\n",
      "2024-08-08 11:55:00,260 INFO dune_client.api.base waiting for query execution 01J4R1XN3A37MJQ3A31G1B2B7W to complete: ExecutionState.EXECUTING\n",
      "2024-08-08 11:55:01,531 INFO dune_client.api.base waiting for query execution 01J4R1XN3A37MJQ3A31G1B2B7W to complete: ExecutionState.EXECUTING\n"
     ]
    }
   ],
   "source": [
    "from dune_tools import get_balances_of_address\n",
    "\n",
    "result=get_balances_of_address.invoke({\"address\":\"0xdfd5293d8e347dfe59e90efd55b2956a1343963d\"})"
   ]
  },
  {
   "cell_type": "code",
   "execution_count": null,
   "metadata": {
    "vscode": {
     "languageId": "shellscript"
    }
   },
   "outputs": [],
   "source": [
    "pip install matplotlib"
   ]
  },
  {
   "cell_type": "code",
   "execution_count": null,
   "metadata": {},
   "outputs": [],
   "source": [
    "from dune_tools import get_token_balance_daily_of_address\n",
    "\n",
    "result=get_token_balance_daily_of_address.invoke({\"address\":\"0xdfd5293d8e347dfe59e90efd55b2956a1343963d\",\"token_address\":\"0x4575f41308ec1483f3d399aa9a2826d74da13deb\"})\n",
    "print(result)"
   ]
  },
  {
   "cell_type": "code",
   "execution_count": 7,
   "metadata": {},
   "outputs": [
    {
     "name": "stdout",
     "output_type": "stream",
     "text": [
      "[{\"name\": \"what_is_time_now\", \"description\": \"Useful when you need to get the current time.\", \"parameters\": {\"type\": \"string\", \"format\": \"what_is_time_now({what_is_time_now_input})\"}}, {\"name\": \"get_address_labels\", \"description\": \"Useful when you need to get a label for some addresses.\", \"parameters\": {\"type\": \"string\", \"format\": \"get_address_labels({get_address_labels_input})\"}}, {\"name\": \"get_balances_of_address\", \"description\": \"Useful when you need to get the balance of all tokens on an address and an image about token balance distribution in USD.\", \"parameters\": {\"type\": \"string\", \"format\": \"get_balances_of_address({get_balances_of_address_input})\"}}, {\"name\": \"get_token_balance_daily_of_address\", \"description\": \"This is useful when you need to get daily balance data for a specified token on an address within 1 months.\", \"parameters\": {\"type\": \"string\", \"format\": \"get_token_balance_daily_of_address({get_token_balance_daily_of_address_input})\"}}, {\"name\": \"top_10_erc20_transaction\", \"description\": \"Useful when you need to get the top 10 volume transactions in the entire Ethereum network.\\nThe parameter `token_contract_address` is the token contract's address.\\nThe parameter `min_amout` must be an integer representing the minimum transaction amount in the token.\\nThe `min_block_time` parameter must be a time string in the format of yyyy-mm-dd hh:mm:ss, indicating that block_time must exceed this time.\", \"parameters\": {\"type\": \"string\", \"format\": \"top_10_erc20_transaction({top_10_erc20_transaction_input})\"}}, {\"name\": \"get_funds_transfer_status_in_transaction\", \"description\": \"Useful when you need get funds transfer status in a Ethereum's transaction. Input for this should be a complete transaction's hash.\", \"parameters\": {\"type\": \"string\", \"format\": \"get_funds_transfer_status_in_transaction({get_funds_transfer_status_in_transaction_input})\"}}, {\"name\": \"get_address_interact_with\", \"description\": \"This is useful when you need to obtain which addresses the address interacted with within 1 months and the transaction behavior of the address.\\nThe parameter `address` must be complete a address.\", \"parameters\": {\"type\": \"string\", \"format\": \"get_address_interact_with({get_address_interact_with_input})\"}}, {\"name\": \"get_addres_funds_movements_of\", \"description\": \"This is useful when you need to get the token transfer of an address.\\nThe parameter `address` must be complete a address.\\nThe parameter `contract_address` must be the erc20 token's complete address.\\nThe parameters `sta_time` and `end_time` indicate the start time and end time in the format of yyyy-MM-dd HH:mm:ss.\\nThe `limit` parameter limits the number of records in the dataframe returned by the query engine.\\nThe returned dataframe can be sorted according to the parameter `sort_by`. The fields of `sort_by` include 'block_time', 'amount'.\\nThe `ascending` parameter indicates the returned dataframe whether to be sorted in ascending order.\", \"parameters\": {\"type\": \"string\", \"format\": \"get_addres_funds_movements_of({get_addres_funds_movements_of_input})\"}}, {\"name\": \"get_eth_movements_of\", \"description\": \"This is useful when you need to get the ETH changes of an address.\\nIt's useful also when you need to get the transactions of the address.\\nThe parameters `sta_time` and `end_time` indicate the start time and end time in the format of yyyy-MM-dd HH:mm:ss.\\nThe `limit` parameter limits the number of records in the dataframe returned by the query engine.\\nThe returned dataframe can be sorted according to the parameter `sort_by`. The fields of `sort_by` include 'block_time', 'eth_value'.\\nThe `ascending` parameter indicates the returned dataframe whether to be sorted in ascending order.\", \"parameters\": {\"type\": \"string\", \"format\": \"get_eth_movements_of({get_eth_movements_of_input})\"}}, {\"name\": \"searchWebPageToAnswer\", \"description\": \"Useful when you need answer questions use web page. Input for this should be a complete question or request.\\n    After executing this tool, you need to execute `summarizeRelevantContents`.\", \"parameters\": {\"type\": \"string\", \"format\": \"searchWebPageToAnswer({searchWebPageToAnswer_input})\"}}, {\"name\": \"searchNewsToAnswer\", \"description\": \"Useful when you need answer questions use news. Input for this should be a complete question or request.\\n    After executing this tool, you need to execute `summarizeRelevantContentsNews`.\", \"parameters\": {\"type\": \"string\", \"format\": \"searchNewsToAnswer({searchNewsToAnswer_input})\"}}, {\"name\": \"searchPlacesToAnswer\", \"description\": \"Useful when you need search some places to answer question. Input for this should be a complete question.\", \"parameters\": {\"type\": \"string\", \"format\": \"searchPlacesToAnswer({searchPlacesToAnswer_input})\"}}, {\"name\": \"searchImagesToAnswer\", \"description\": \"Useful when you need search some images to answer question. Input for this should be a complete question.\", \"parameters\": {\"type\": \"string\", \"format\": \"searchImagesToAnswer({searchImagesToAnswer_input})\"}}, {\"name\": \"summarizeRelevantContents\", \"description\": \"Get relevant content from returned by `searchWebPageToAnswer`.\\nThe parameter `links` should be top 5 links returned by `searchWebPageToAnswer`.\\nThe parameter `question` is required. It should be a complete question which returned from `searchWebPageToAnswer`.\", \"parameters\": {\"type\": \"string\", \"format\": \"summarizeRelevantContents({summarizeRelevantContents_input})\"}}, {\"name\": \"summarizeRelevantContentsNews\", \"description\": \"Get relevant content from returned by `searchNewsToAnswer`.\\nThe parameter `links` should be top 5 links returned by `searchNewsToAnswer`.\\nThe parameter `question` is required. It should be a complete question which returned from `searchNewsToAnswer`.\", \"parameters\": {\"type\": \"string\", \"format\": \"summarizeRelevantContentsNews({summarizeRelevantContentsNews_input})\"}}, {\"name\": \"answerQuestionFromLinks\", \"description\": \"Useful when the question that needs to be answered points to a specific link.\\nThe parameter `links` should be complete url links.\\nThe parameter `question` should be a complete question about `links`.\", \"parameters\": {\"type\": \"string\", \"format\": \"answerQuestionFromLinks({answerQuestionFromLinks_input})\"}}, {\"name\": \"getLatestQuote\", \"description\": \"Useful when you need get the latest quote of a token.\", \"parameters\": {\"type\": \"string\", \"format\": \"getLatestQuote({getLatestQuote_input})\"}}, {\"name\": \"getTokenMetadata\", \"description\": \"Useful when you need get the metadata of a token.\", \"parameters\": {\"type\": \"string\", \"format\": \"getTokenMetadata({getTokenMetadata_input})\"}}, {\"name\": \"BuyOrSellSignal\", \"description\": \"Useful when you need to know buy and sell signals for a cryptocurrency. The input to this should be a cryptocurrency's symbol.\", \"parameters\": {\"type\": \"string\", \"format\": \"BuyOrSellSignal({BuyOrSellSignal_input})\"}}, {\"name\": \"arxiv_search\", \"description\": \"A wrapper around Arxiv.org\\n    Useful for when you need to answer questions about Physics, Mathematics,\\n    Computer Science, Quantitative Biology, Quantitative Finance, Statistics,\\n    Electrical Engineering, and Economics\\n    from scientific articles on arxiv.org.\\n    Input should be a search query.\", \"parameters\": {\"type\": \"string\", \"format\": \"arxiv_search({arxiv_search_input})\"}}, {\"name\": \"arxiv_load\", \"description\": \"Useful for when your need to know the content of some paper on Arxiv.org.\\n    Input should be the entry_id return from `arxiv_search`.\", \"parameters\": {\"type\": \"string\", \"format\": \"arxiv_load({arxiv_load_input})\"}}]\n"
     ]
    }
   ],
   "source": [
    "from tools_basic import tools\n",
    "import json\n",
    "\n",
    "t_arr=[{\n",
    "            \"name\": tool.name,\n",
    "            \"description\": tool.description,\n",
    "            \"parameters\": {\n",
    "                \"type\": \"string\",  # 假设工具接收的参数类型是字符串\n",
    "                \"format\": f\"{tool.name}({{{tool.name}_input}})\"  # 定义参数格式\n",
    "            }\n",
    "        } for tool in tools]\n",
    "\n",
    "print(json.dumps(t_arr))"
   ]
  },
  {
   "cell_type": "code",
   "execution_count": 1,
   "metadata": {},
   "outputs": [
    {
     "name": "stderr",
     "output_type": "stream",
     "text": [
      "/Users/zhangleping/github.com/holynull/ethereum_address_analysis_agent/.venv/lib/python3.10/site-packages/tqdm/auto.py:21: TqdmWarning: IProgress not found. Please update jupyter and ipywidgets. See https://ipywidgets.readthedocs.io/en/stable/user_install.html\n",
      "  from .autonotebook import tqdm as notebook_tqdm\n",
      "2024-08-02 09:56:00,136 INFO dune_client.api.base executing 3912735 on medium cluster\n",
      "2024-08-02 09:56:01,561 INFO dune_client.api.base waiting for query execution 01J48CT6Z7E4H3QMKSXHDNZ6KA to complete: ExecutionState.PENDING (queue position: 1)\n",
      "2024-08-02 09:56:02,901 INFO dune_client.api.base waiting for query execution 01J48CT6Z7E4H3QMKSXHDNZ6KA to complete: ExecutionState.EXECUTING\n",
      "2024-08-02 09:56:04,241 INFO dune_client.api.base waiting for query execution 01J48CT6Z7E4H3QMKSXHDNZ6KA to complete: ExecutionState.EXECUTING\n",
      "/Users/zhangleping/github.com/holynull/ethereum_address_analysis_agent/.venv/lib/python3.10/site-packages/langchain_core/_api/deprecation.py:119: LangChainDeprecationWarning: The method `BaseTool.__call__` was deprecated in langchain-core 0.1.47 and will be removed in 0.3.0. Use invoke instead.\n",
      "  warn_deprecated(\n",
      "2024-08-02 09:56:09,057 WARNING langchain_core.callbacks.manager Error in LangChainTracer.on_tool_end callback: TracerException(\"Found chain run at ID 4401f094-6a51-4ec7-8d49-a36d9a13a319, but expected {'tool'} run.\")\n"
     ]
    },
    {
     "name": "stdout",
     "output_type": "stream",
     "text": [
      "[{\"address\":\"0xdfd5293d8e347dfe59e90efd55b2956a1343963d\",\"labels\":\"[Uniswap User $5k-$10k avg. DEX trade value 2 years old DEX trader Number of DEXs traded on: 1 DEX Trader Sparse Trader Binance User Binance 16][Binance 16]\"}]\n"
     ]
    }
   ],
   "source": [
    "from dune_tools import get_address_labels\n",
    "\n",
    "result=get_address_labels.invoke({\"addresses\":[\"0xdfd5293d8e347dfe59e90efd55b2956a1343963d\"]})\n",
    "print(result)"
   ]
  },
  {
   "cell_type": "code",
   "execution_count": 1,
   "metadata": {},
   "outputs": [
    {
     "ename": "ModuleNotFoundError",
     "evalue": "No module named 'dotenv'",
     "output_type": "error",
     "traceback": [
      "\u001b[0;31m---------------------------------------------------------------------------\u001b[0m",
      "\u001b[0;31mModuleNotFoundError\u001b[0m                       Traceback (most recent call last)",
      "Cell \u001b[0;32mIn[1], line 1\u001b[0m\n\u001b[0;32m----> 1\u001b[0m \u001b[38;5;28;01mfrom\u001b[39;00m \u001b[38;5;21;01mdune_tools\u001b[39;00m \u001b[38;5;28;01mimport\u001b[39;00m get_addres_how_much_funds_transfered\n\u001b[1;32m      3\u001b[0m result \u001b[38;5;241m=\u001b[39m get_addres_how_much_funds_transfered\u001b[38;5;241m.\u001b[39minvoke(\n\u001b[1;32m      4\u001b[0m     {\n\u001b[1;32m      5\u001b[0m         \u001b[38;5;124m\"\u001b[39m\u001b[38;5;124maddress\u001b[39m\u001b[38;5;124m\"\u001b[39m: \u001b[38;5;124m\"\u001b[39m\u001b[38;5;124m0xdfd5293d8e347dfe59e90efd55b2956a1343963d\u001b[39m\u001b[38;5;124m\"\u001b[39m,\n\u001b[0;32m   (...)\u001b[0m\n\u001b[1;32m     10\u001b[0m     }\n\u001b[1;32m     11\u001b[0m )\n\u001b[1;32m     12\u001b[0m \u001b[38;5;28mprint\u001b[39m(result)\n",
      "File \u001b[0;32m~/github.com/holynull/ethereum_address_analysis_agent/dune_tools.py:3\u001b[0m\n\u001b[1;32m      1\u001b[0m \u001b[38;5;28;01mimport\u001b[39;00m \u001b[38;5;21;01mre\u001b[39;00m\n\u001b[1;32m      2\u001b[0m \u001b[38;5;28;01mfrom\u001b[39;00m \u001b[38;5;21;01mbs4\u001b[39;00m \u001b[38;5;28;01mimport\u001b[39;00m BeautifulSoup\n\u001b[0;32m----> 3\u001b[0m \u001b[38;5;28;01mfrom\u001b[39;00m \u001b[38;5;21;01mdotenv\u001b[39;00m \u001b[38;5;28;01mimport\u001b[39;00m load_dotenv\n\u001b[1;32m      4\u001b[0m \u001b[38;5;28;01mimport\u001b[39;00m \u001b[38;5;21;01mos\u001b[39;00m\n\u001b[1;32m      5\u001b[0m \u001b[38;5;28;01mfrom\u001b[39;00m \u001b[38;5;21;01mdune_client\u001b[39;00m\u001b[38;5;21;01m.\u001b[39;00m\u001b[38;5;21;01mclient\u001b[39;00m \u001b[38;5;28;01mimport\u001b[39;00m DuneClient\n",
      "\u001b[0;31mModuleNotFoundError\u001b[0m: No module named 'dotenv'"
     ]
    }
   ],
   "source": [
    "from dune_tools import get_addres_how_much_funds_transfered\n",
    "\n",
    "result = get_addres_how_much_funds_transfered.invoke(\n",
    "    {\n",
    "        \"address\": \"0xdfd5293d8e347dfe59e90efd55b2956a1343963d\",\n",
    "        \"contract_address\": \"0xa0b86991c6218b36c1d19d4a2e9eb0ce3606eb48\",\n",
    "        \"token_sybmol\": \"USDC\",\n",
    "        \"sta_time\": \"2024-07-29 00:00:00\",\n",
    "        \"end_time\": \"2024-08-06 23:59:59\",\n",
    "    }\n",
    ")\n",
    "print(result)"
   ]
  }
 ],
 "metadata": {
  "kernelspec": {
   "display_name": ".venv",
   "language": "python",
   "name": "python3"
  },
  "language_info": {
   "codemirror_mode": {
    "name": "ipython",
    "version": 3
   },
   "file_extension": ".py",
   "mimetype": "text/x-python",
   "name": "python",
   "nbconvert_exporter": "python",
   "pygments_lexer": "ipython3",
   "version": "3.10.6"
  }
 },
 "nbformat": 4,
 "nbformat_minor": 2
}
